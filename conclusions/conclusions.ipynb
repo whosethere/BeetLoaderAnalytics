{
 "cells": [
  {
   "cell_type": "markdown",
   "metadata": {},
   "source": [
    "## Short summary of provided data and assigned task"
   ]
  },
  {
   "cell_type": "markdown",
   "metadata": {},
   "source": [
    "1. The provided data set includes information on sugar beet loading and subsequent deliveries.\n",
    "2. The data contains measurements of sugar beet contamination with sand (most likely component C) and beet head (most component A). The data also pertains to component B, though it is not explicitly identified.\n",
    "3. The objective is to compare the contamination levels recorded during beet loading with those recorded upon delivery to the factory. Following this comparison, evaluate the effectiveness of the model. Present the comparison results to the stakeholders."
   ]
  },
  {
   "cell_type": "markdown",
   "metadata": {},
   "source": [
    "## The assumptions made in the following evaluation of the model\n"
   ]
  },
  {
   "cell_type": "markdown",
   "metadata": {},
   "source": [
    " 1.   The measurements in the trucks.csv file are considered as the ground truth.\n",
    " 2.   The data sample is considered sufficient.\n",
    " 3.   The same beet loader was used for each load.\n",
    " 4.   The sugar beet pre-cleaning process was consistent for each load."
   ]
  },
  {
   "cell_type": "code",
   "execution_count": 1,
   "metadata": {},
   "outputs": [
    {
     "data": {
      "text/html": [
       "<div>\n",
       "<style scoped>\n",
       "    .dataframe tbody tr th:only-of-type {\n",
       "        vertical-align: middle;\n",
       "    }\n",
       "\n",
       "    .dataframe tbody tr th {\n",
       "        vertical-align: top;\n",
       "    }\n",
       "\n",
       "    .dataframe thead th {\n",
       "        text-align: right;\n",
       "    }\n",
       "</style>\n",
       "<table border=\"1\" class=\"dataframe\">\n",
       "  <thead>\n",
       "    <tr style=\"text-align: right;\">\n",
       "      <th></th>\n",
       "      <th>date</th>\n",
       "      <th>trucks_count</th>\n",
       "      <th>latitude</th>\n",
       "      <th>longitude</th>\n",
       "      <th>beetloader_A</th>\n",
       "      <th>beetloader_B</th>\n",
       "      <th>beetloader_C</th>\n",
       "      <th>beetloader_beet_count</th>\n",
       "      <th>trucks_A</th>\n",
       "      <th>trucks_B</th>\n",
       "      <th>...</th>\n",
       "      <th>time_end</th>\n",
       "      <th>difference_A</th>\n",
       "      <th>difference_B</th>\n",
       "      <th>difference_C</th>\n",
       "      <th>t_stat_A</th>\n",
       "      <th>p_value_A</th>\n",
       "      <th>t_stat_B</th>\n",
       "      <th>p_value_B</th>\n",
       "      <th>t_stat_C</th>\n",
       "      <th>p_value_C</th>\n",
       "    </tr>\n",
       "  </thead>\n",
       "  <tbody>\n",
       "    <tr>\n",
       "      <th>0</th>\n",
       "      <td>2022-10-20</td>\n",
       "      <td>9</td>\n",
       "      <td>51.009888</td>\n",
       "      <td>6.036406</td>\n",
       "      <td>3.02</td>\n",
       "      <td>0.52</td>\n",
       "      <td>4.48</td>\n",
       "      <td>2821.0</td>\n",
       "      <td>2.9</td>\n",
       "      <td>0.0</td>\n",
       "      <td>...</td>\n",
       "      <td>2022-10-20 04:49:27.294</td>\n",
       "      <td>0.12</td>\n",
       "      <td>0.52</td>\n",
       "      <td>0.480000</td>\n",
       "      <td>-8.607101</td>\n",
       "      <td>0.000026</td>\n",
       "      <td>-11.014049</td>\n",
       "      <td>0.000004</td>\n",
       "      <td>1.035741</td>\n",
       "      <td>0.330614</td>\n",
       "    </tr>\n",
       "    <tr>\n",
       "      <th>1</th>\n",
       "      <td>2022-10-20</td>\n",
       "      <td>5</td>\n",
       "      <td>51.011807</td>\n",
       "      <td>6.025018</td>\n",
       "      <td>2.98</td>\n",
       "      <td>0.55</td>\n",
       "      <td>4.44</td>\n",
       "      <td>4787.0</td>\n",
       "      <td>2.9</td>\n",
       "      <td>0.0</td>\n",
       "      <td>...</td>\n",
       "      <td>2022-10-20 06:11:07.609</td>\n",
       "      <td>0.08</td>\n",
       "      <td>0.55</td>\n",
       "      <td>0.190000</td>\n",
       "      <td>-8.607101</td>\n",
       "      <td>0.000026</td>\n",
       "      <td>-11.014049</td>\n",
       "      <td>0.000004</td>\n",
       "      <td>1.035741</td>\n",
       "      <td>0.330614</td>\n",
       "    </tr>\n",
       "    <tr>\n",
       "      <th>2</th>\n",
       "      <td>2022-10-20</td>\n",
       "      <td>18</td>\n",
       "      <td>51.005714</td>\n",
       "      <td>6.043033</td>\n",
       "      <td>2.97</td>\n",
       "      <td>0.42</td>\n",
       "      <td>3.92</td>\n",
       "      <td>5179.0</td>\n",
       "      <td>2.9</td>\n",
       "      <td>0.0</td>\n",
       "      <td>...</td>\n",
       "      <td>2022-10-20 12:57:05.219</td>\n",
       "      <td>0.07</td>\n",
       "      <td>0.42</td>\n",
       "      <td>-0.844444</td>\n",
       "      <td>-8.607101</td>\n",
       "      <td>0.000026</td>\n",
       "      <td>-11.014049</td>\n",
       "      <td>0.000004</td>\n",
       "      <td>1.035741</td>\n",
       "      <td>0.330614</td>\n",
       "    </tr>\n",
       "    <tr>\n",
       "      <th>3</th>\n",
       "      <td>2022-12-06</td>\n",
       "      <td>4</td>\n",
       "      <td>51.017178</td>\n",
       "      <td>6.018067</td>\n",
       "      <td>3.03</td>\n",
       "      <td>0.70</td>\n",
       "      <td>3.88</td>\n",
       "      <td>1717.0</td>\n",
       "      <td>2.9</td>\n",
       "      <td>0.0</td>\n",
       "      <td>...</td>\n",
       "      <td>2022-12-06 19:43:36.823</td>\n",
       "      <td>0.13</td>\n",
       "      <td>0.70</td>\n",
       "      <td>-2.120000</td>\n",
       "      <td>-8.607101</td>\n",
       "      <td>0.000026</td>\n",
       "      <td>-11.014049</td>\n",
       "      <td>0.000004</td>\n",
       "      <td>1.035741</td>\n",
       "      <td>0.330614</td>\n",
       "    </tr>\n",
       "    <tr>\n",
       "      <th>4</th>\n",
       "      <td>2022-12-07</td>\n",
       "      <td>2</td>\n",
       "      <td>51.017178</td>\n",
       "      <td>6.018067</td>\n",
       "      <td>3.02</td>\n",
       "      <td>0.68</td>\n",
       "      <td>4.24</td>\n",
       "      <td>800.0</td>\n",
       "      <td>2.9</td>\n",
       "      <td>0.0</td>\n",
       "      <td>...</td>\n",
       "      <td>2022-12-07 04:59:08.227</td>\n",
       "      <td>0.12</td>\n",
       "      <td>0.68</td>\n",
       "      <td>0.240000</td>\n",
       "      <td>-8.607101</td>\n",
       "      <td>0.000026</td>\n",
       "      <td>-11.014049</td>\n",
       "      <td>0.000004</td>\n",
       "      <td>1.035741</td>\n",
       "      <td>0.330614</td>\n",
       "    </tr>\n",
       "  </tbody>\n",
       "</table>\n",
       "<p>5 rows × 22 columns</p>\n",
       "</div>"
      ],
      "text/plain": [
       "         date  trucks_count   latitude  longitude  beetloader_A  beetloader_B  \\\n",
       "0  2022-10-20             9  51.009888   6.036406          3.02          0.52   \n",
       "1  2022-10-20             5  51.011807   6.025018          2.98          0.55   \n",
       "2  2022-10-20            18  51.005714   6.043033          2.97          0.42   \n",
       "3  2022-12-06             4  51.017178   6.018067          3.03          0.70   \n",
       "4  2022-12-07             2  51.017178   6.018067          3.02          0.68   \n",
       "\n",
       "   beetloader_C  beetloader_beet_count  trucks_A  trucks_B  ...  \\\n",
       "0          4.48                 2821.0       2.9       0.0  ...   \n",
       "1          4.44                 4787.0       2.9       0.0  ...   \n",
       "2          3.92                 5179.0       2.9       0.0  ...   \n",
       "3          3.88                 1717.0       2.9       0.0  ...   \n",
       "4          4.24                  800.0       2.9       0.0  ...   \n",
       "\n",
       "                  time_end difference_A difference_B  difference_C  t_stat_A  \\\n",
       "0  2022-10-20 04:49:27.294         0.12         0.52      0.480000 -8.607101   \n",
       "1  2022-10-20 06:11:07.609         0.08         0.55      0.190000 -8.607101   \n",
       "2  2022-10-20 12:57:05.219         0.07         0.42     -0.844444 -8.607101   \n",
       "3  2022-12-06 19:43:36.823         0.13         0.70     -2.120000 -8.607101   \n",
       "4  2022-12-07 04:59:08.227         0.12         0.68      0.240000 -8.607101   \n",
       "\n",
       "   p_value_A   t_stat_B  p_value_B  t_stat_C  p_value_C  \n",
       "0   0.000026 -11.014049   0.000004  1.035741   0.330614  \n",
       "1   0.000026 -11.014049   0.000004  1.035741   0.330614  \n",
       "2   0.000026 -11.014049   0.000004  1.035741   0.330614  \n",
       "3   0.000026 -11.014049   0.000004  1.035741   0.330614  \n",
       "4   0.000026 -11.014049   0.000004  1.035741   0.330614  \n",
       "\n",
       "[5 rows x 22 columns]"
      ]
     },
     "execution_count": 1,
     "metadata": {},
     "output_type": "execute_result"
    }
   ],
   "source": [
    "import pandas as pd\n",
    "df = pd.read_csv('model_evaluation.csv')\n",
    "df"
   ]
  },
  {
   "cell_type": "code",
   "execution_count": 2,
   "metadata": {},
   "outputs": [
    {
     "data": {
      "text/html": [
       "<div>\n",
       "<style scoped>\n",
       "    .dataframe tbody tr th:only-of-type {\n",
       "        vertical-align: middle;\n",
       "    }\n",
       "\n",
       "    .dataframe tbody tr th {\n",
       "        vertical-align: top;\n",
       "    }\n",
       "\n",
       "    .dataframe thead th {\n",
       "        text-align: right;\n",
       "    }\n",
       "</style>\n",
       "<table border=\"1\" class=\"dataframe\">\n",
       "  <thead>\n",
       "    <tr style=\"text-align: right;\">\n",
       "      <th></th>\n",
       "      <th>beetloader_C</th>\n",
       "      <th>trucks_C</th>\n",
       "    </tr>\n",
       "  </thead>\n",
       "  <tbody>\n",
       "    <tr>\n",
       "      <th>0</th>\n",
       "      <td>4.48</td>\n",
       "      <td>4.000000</td>\n",
       "    </tr>\n",
       "    <tr>\n",
       "      <th>1</th>\n",
       "      <td>4.44</td>\n",
       "      <td>4.250000</td>\n",
       "    </tr>\n",
       "    <tr>\n",
       "      <th>2</th>\n",
       "      <td>3.92</td>\n",
       "      <td>4.764444</td>\n",
       "    </tr>\n",
       "    <tr>\n",
       "      <th>3</th>\n",
       "      <td>3.88</td>\n",
       "      <td>6.000000</td>\n",
       "    </tr>\n",
       "    <tr>\n",
       "      <th>4</th>\n",
       "      <td>4.24</td>\n",
       "      <td>4.000000</td>\n",
       "    </tr>\n",
       "  </tbody>\n",
       "</table>\n",
       "</div>"
      ],
      "text/plain": [
       "   beetloader_C  trucks_C\n",
       "0          4.48  4.000000\n",
       "1          4.44  4.250000\n",
       "2          3.92  4.764444\n",
       "3          3.88  6.000000\n",
       "4          4.24  4.000000"
      ]
     },
     "execution_count": 2,
     "metadata": {},
     "output_type": "execute_result"
    }
   ],
   "source": [
    "df[['beetloader_C', 'trucks_C']]"
   ]
  },
  {
   "cell_type": "code",
   "execution_count": 3,
   "metadata": {},
   "outputs": [
    {
     "name": "stdout",
     "output_type": "stream",
     "text": [
      "Mean difference for A value: 0.092 percentage points.\n",
      "Mean difference for B value: 0.504 percentage points.\n",
      "Mean difference for C value: 0.774 percentage points.\n"
     ]
    }
   ],
   "source": [
    "print(f\"Mean difference for A value: {round((df['difference_A'].abs() * df['trucks_count']).sum() / df['trucks_count'].sum(), 3)} percentage points.\")\n",
    "print(f\"Mean difference for B value: {round((df['difference_B'].abs() * df['trucks_count']).sum() / df['trucks_count'].sum(), 3)} percentage points.\")\n",
    "print(f\"Mean difference for C value: {round((df['difference_C'].abs() * df['trucks_count']).sum() / df['trucks_count'].sum(), 3)} percentage points.\")"
   ]
  },
  {
   "cell_type": "markdown",
   "metadata": {},
   "source": [
    "*calculatoins regarding potential differences in gross-net weight and their potential translation into financial discrepancies for individual periods*"
   ]
  },
  {
   "cell_type": "markdown",
   "metadata": {},
   "source": [
    "### Conclusion"
   ]
  },
  {
   "cell_type": "markdown",
   "metadata": {},
   "source": [
    "For the evaluation of component A the model works well.\n",
    "The assessment of component C could lead to noticeable discrepancies in some cases.\n",
    "The assessment of parameter B needs improvement. From a statistical perspective, the measured values do not differ much from the true values. However, in the trucks dataset the parameter has a value of zero, indicating that the measurements should reflect this value as well.\n",
    "\n",
    "\n",
    "Steps:\n",
    "    1. Continue refining the model.\n",
    "    2. Examine closely the instances and specific deliveries where large variances occur.\n",
    "\n",
    "Possible avenues for investigation:\n",
    "Investigate whether the lighting conditions (time of loading) influence the model's accuracy.\n",
    "\n"
   ]
  },
  {
   "cell_type": "markdown",
   "metadata": {},
   "source": [
    "## Thoughts on the topic, without prior assumptions"
   ]
  },
  {
   "cell_type": "markdown",
   "metadata": {},
   "source": [
    "0. The current conclusions are drawn primarily to serve the needs of the assigned task. They reflect the decision I would make based on my present knowledge of the business objectives and the realities of the entire process. To offer a more customized recommendation, a deeper familiarization with the subject matter would be essential."
   ]
  },
  {
   "cell_type": "markdown",
   "metadata": {},
   "source": [
    "1. The factory contamination assessment process is not performed for every load. If a contaminant assessment process is performed, it applies to a small sample of the entire load. It is sometimes carried out by careful measurement and sometimes by visual inspection. The algorithm evaluates all beets during loading. Perhaps it is more accurate than factory measurements?"
   ]
  },
  {
   "cell_type": "markdown",
   "metadata": {},
   "source": [
    "2. The algorithm evaluates one visible side of the beets on the belt. Perhaps the difference in measurements results from the fact that the side of the beets containing more sand (heavier) is invisible to the algorithm. (Negative value in difference_C means more sand measured in trucks dataset)"
   ]
  },
  {
   "cell_type": "markdown",
   "metadata": {},
   "source": [
    "3. The entire assessment should depend on previously set business goals. Perhaps the current accuracy of the model is sufficient to implement its operation."
   ]
  }
 ],
 "metadata": {
  "kernelspec": {
   "display_name": "base",
   "language": "python",
   "name": "python3"
  },
  "language_info": {
   "codemirror_mode": {
    "name": "ipython",
    "version": 3
   },
   "file_extension": ".py",
   "mimetype": "text/x-python",
   "name": "python",
   "nbconvert_exporter": "python",
   "pygments_lexer": "ipython3",
   "version": "3.8.10"
  }
 },
 "nbformat": 4,
 "nbformat_minor": 2
}
