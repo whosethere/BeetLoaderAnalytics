{
 "cells": [
  {
   "cell_type": "code",
   "execution_count": 1,
   "metadata": {},
   "outputs": [],
   "source": [
    "import pandas as pd\n",
    "import numpy as np\n",
    "import pyproj\n",
    "from scipy.spatial import KDTree\n",
    "import seaborn as sns\n",
    "import matplotlib.pyplot as plt\n",
    "import math\n",
    "from scipy.stats import ttest_ind\n",
    "import warnings\n",
    "warnings.filterwarnings('ignore')"
   ]
  },
  {
   "cell_type": "code",
   "execution_count": 2,
   "metadata": {},
   "outputs": [],
   "source": [
    "# Haversine formula to calculate distance between two latitude longitude points\n",
    "def haversine_distance(lat1, lon1, lat2, lon2):\n",
    "    R = 6371000\n",
    "    phi1 = math.radians(lat1)\n",
    "    phi2 = math.radians(lat2)\n",
    "    delta_phi = math.radians(lat2 - lat1)\n",
    "    delta_lambda = math.radians(lon2 - lon1)\n",
    "    \n",
    "    a = math.sin(delta_phi / 2.0) ** 2 + math.cos(phi1) * math.cos(phi2) * math.sin(delta_lambda / 2.0) ** 2\n",
    "    c = 2 * math.atan2(math.sqrt(a), math.sqrt(1 - a))\n",
    "    distance = R * c\n",
    "    return distance"
   ]
  },
  {
   "cell_type": "code",
   "execution_count": 3,
   "metadata": {},
   "outputs": [],
   "source": [
    "trucks = pd.read_csv('../data/raw/trucks.csv')\n",
    "trucks = trucks.drop(columns=['Unnamed: 0'])"
   ]
  },
  {
   "cell_type": "code",
   "execution_count": 4,
   "metadata": {},
   "outputs": [],
   "source": [
    "beetloader = pd.read_csv('../data/processed/beetloader_processed.csv')"
   ]
  },
  {
   "cell_type": "code",
   "execution_count": 5,
   "metadata": {},
   "outputs": [],
   "source": [
    "\n",
    "# change column names\n",
    "column_names = {\n",
    "    'A': 'A',\n",
    "    'B': 'B',\n",
    "    'C': 'C',\n",
    "    'Datum Erstwägung': 'date',\n",
    "    'Eingangswaagenzeit': 'time',\n",
    "    'GPS Längengrad': 'longitude',\n",
    "    'GPS Breitengrad': 'latitude'\n",
    "}\n",
    "trucks = trucks.rename(columns=column_names)\n",
    "# connect date and time columns\n",
    "trucks['datetime'] = pd.to_datetime(trucks['date'] + ' ' + trucks['time'], format='%m/%d/%Y %I:%M:%S %p')\n",
    "trucks = trucks.sort_values(by=['datetime'])\n",
    "beetloader = beetloader.sort_values(by=['takenat'])"
   ]
  },
  {
   "cell_type": "code",
   "execution_count": 6,
   "metadata": {},
   "outputs": [],
   "source": [
    "# wybranie najnowszej wersji algorytmu\n",
    "unique_algorithm_versions = beetloader['algorithmversion'].unique()\n",
    "newest_version = sorted(unique_algorithm_versions, key=lambda v: tuple(map(int, v[1:].split('.'))), reverse=True)[0]\n",
    "beetloader = beetloader[beetloader['algorithmversion'] == newest_version]"
   ]
  },
  {
   "cell_type": "code",
   "execution_count": 7,
   "metadata": {},
   "outputs": [],
   "source": [
    "trucks['date'] = pd.to_datetime(trucks['date'], format='%m/%d/%Y')"
   ]
  },
  {
   "cell_type": "code",
   "execution_count": 8,
   "metadata": {},
   "outputs": [],
   "source": [
    "# find unique dates in beetloader and trucks\n",
    "unique_dates_beetloader = set(beetloader['takenat'].apply(lambda x: pd.to_datetime(x).date()))\n",
    "unique_dates_trucks = set(trucks['datetime'].apply(lambda x: pd.to_datetime(x).date()))\n",
    "common_dates = unique_dates_beetloader.intersection(unique_dates_trucks)"
   ]
  },
  {
   "cell_type": "code",
   "execution_count": 9,
   "metadata": {},
   "outputs": [],
   "source": [
    "# make datasets with common dates\n",
    "filtered_beetloader = beetloader[beetloader['takenat'].apply(lambda x: pd.to_datetime(x).date() in common_dates)]\n",
    "filtered_trucks = trucks[trucks['datetime'].apply(lambda x: pd.to_datetime(x).date() in common_dates)]"
   ]
  },
  {
   "cell_type": "code",
   "execution_count": 10,
   "metadata": {},
   "outputs": [],
   "source": [
    "# filter beetloader dataset to 200m distance for all unique points in trucks\n",
    "trucks_coords = filtered_trucks[['latitude', 'longitude']].drop_duplicates(subset=['latitude', 'longitude']).values\n",
    "tree = KDTree(trucks_coords)\n",
    "beetloader_points = filtered_beetloader[['latitude', 'longitude']].values\n",
    "points_found = tree.query_ball_point(beetloader_points, 0.0025)\n",
    "filtered_beetloader = filtered_beetloader[[bool(i) for i in points_found]]\n",
    "# filtered_beetloader select only false in beetloader_empty_belt\n",
    "filtered_beetloader = filtered_beetloader[filtered_beetloader['beetloader_empty_belt'] == False]\n"
   ]
  },
  {
   "cell_type": "code",
   "execution_count": 11,
   "metadata": {},
   "outputs": [],
   "source": [
    "filtered_beetloader['takenat'] = pd.to_datetime(beetloader['takenat'])"
   ]
  },
  {
   "cell_type": "code",
   "execution_count": 12,
   "metadata": {},
   "outputs": [],
   "source": [
    "eval_list = []\n",
    "for point_date, lat, lng in filtered_trucks[['date', 'latitude', 'longitude']].drop_duplicates().values:\n",
    "    # print(points)\n",
    "    df_trucks = filtered_trucks[(filtered_trucks['date'] == point_date) & (filtered_trucks['latitude'] == lat) & (filtered_trucks['longitude'] == lng)]\n",
    "    df_beetloader = filtered_beetloader[filtered_beetloader.apply(lambda row: haversine_distance(lat, lng, row['latitude'], row['longitude']) <= 200, axis=1)]\n",
    "    df_beetloader = df_beetloader[df_beetloader['takenat'].dt.date == point_date]\n",
    "    \n",
    "    # obliczenie średniej ważonej dla kolumny a\n",
    "    weighted_mean_A = (df_beetloader['beetloader_A'] * df_beetloader['beetloader_beet_count']).sum() / df_beetloader['beetloader_beet_count'].sum()    \n",
    "    weighted_mean_A = round(weighted_mean_A, 2)\n",
    "    # obliczenie średniej ważonej dla kolumny b\n",
    "    weighted_mean_B = (df_beetloader['beetloader_B'] * df_beetloader['beetloader_beet_count']).sum() / df_beetloader['beetloader_beet_count'].sum()    \n",
    "    weighted_mean_B = round(weighted_mean_B, 2)\n",
    "    # obliczenie średniej ważonej dla kolumny c\n",
    "    weighted_mean_C = (df_beetloader['beetloader_C'] * df_beetloader['beetloader_beet_count']).sum() / df_beetloader['beetloader_beet_count'].sum()    \n",
    "    weighted_mean_C = round(weighted_mean_C, 2)\n",
    "\n",
    "    eval_dict = {\n",
    "        'date': point_date,\n",
    "        'trucks_count': df_trucks.shape[0],\n",
    "        'latitude': lat,\n",
    "        'longitude': lng,\n",
    "        'beetloader_A': weighted_mean_A,\n",
    "        'beetloader_B': weighted_mean_B,\n",
    "        'beetloader_C': weighted_mean_C,\n",
    "        'beetloader_beet_count': df_beetloader['beetloader_beet_count'].sum(),\n",
    "        'trucks_A': df_trucks['A'].mean(),\n",
    "        'trucks_B': df_trucks['B'].mean(),\n",
    "        'trucks_C': df_trucks['C'].mean(),\n",
    "        'time_start': df_beetloader['takenat'].min(),\n",
    "        'time_end': df_beetloader['takenat'].max(),\n",
    "    }\n",
    "    eval_list.append(eval_dict)\n",
    "    \n",
    "\n"
   ]
  },
  {
   "cell_type": "code",
   "execution_count": 13,
   "metadata": {},
   "outputs": [],
   "source": [
    "eval_df = pd.DataFrame(eval_list)"
   ]
  },
  {
   "cell_type": "markdown",
   "metadata": {},
   "source": [
    "### Evaluated model dataset"
   ]
  },
  {
   "cell_type": "code",
   "execution_count": 14,
   "metadata": {},
   "outputs": [
    {
     "data": {
      "text/html": [
       "<div>\n",
       "<style scoped>\n",
       "    .dataframe tbody tr th:only-of-type {\n",
       "        vertical-align: middle;\n",
       "    }\n",
       "\n",
       "    .dataframe tbody tr th {\n",
       "        vertical-align: top;\n",
       "    }\n",
       "\n",
       "    .dataframe thead th {\n",
       "        text-align: right;\n",
       "    }\n",
       "</style>\n",
       "<table border=\"1\" class=\"dataframe\">\n",
       "  <thead>\n",
       "    <tr style=\"text-align: right;\">\n",
       "      <th></th>\n",
       "      <th>date</th>\n",
       "      <th>trucks_count</th>\n",
       "      <th>latitude</th>\n",
       "      <th>longitude</th>\n",
       "      <th>beetloader_A</th>\n",
       "      <th>beetloader_B</th>\n",
       "      <th>beetloader_C</th>\n",
       "      <th>beetloader_beet_count</th>\n",
       "      <th>trucks_A</th>\n",
       "      <th>trucks_B</th>\n",
       "      <th>trucks_C</th>\n",
       "      <th>time_start</th>\n",
       "      <th>time_end</th>\n",
       "    </tr>\n",
       "  </thead>\n",
       "  <tbody>\n",
       "    <tr>\n",
       "      <th>0</th>\n",
       "      <td>2022-10-20</td>\n",
       "      <td>9</td>\n",
       "      <td>51.009888</td>\n",
       "      <td>6.036406</td>\n",
       "      <td>3.02</td>\n",
       "      <td>0.52</td>\n",
       "      <td>4.48</td>\n",
       "      <td>2821.0</td>\n",
       "      <td>2.9</td>\n",
       "      <td>0.0</td>\n",
       "      <td>4.000000</td>\n",
       "      <td>2022-10-20 04:33:07.007</td>\n",
       "      <td>2022-10-20 04:49:27.294</td>\n",
       "    </tr>\n",
       "    <tr>\n",
       "      <th>1</th>\n",
       "      <td>2022-10-20</td>\n",
       "      <td>5</td>\n",
       "      <td>51.011807</td>\n",
       "      <td>6.025018</td>\n",
       "      <td>2.98</td>\n",
       "      <td>0.55</td>\n",
       "      <td>4.44</td>\n",
       "      <td>4787.0</td>\n",
       "      <td>2.9</td>\n",
       "      <td>0.0</td>\n",
       "      <td>4.250000</td>\n",
       "      <td>2022-10-20 05:09:37.366</td>\n",
       "      <td>2022-10-20 06:11:07.609</td>\n",
       "    </tr>\n",
       "    <tr>\n",
       "      <th>2</th>\n",
       "      <td>2022-10-20</td>\n",
       "      <td>18</td>\n",
       "      <td>51.005714</td>\n",
       "      <td>6.043033</td>\n",
       "      <td>2.97</td>\n",
       "      <td>0.42</td>\n",
       "      <td>3.92</td>\n",
       "      <td>5179.0</td>\n",
       "      <td>2.9</td>\n",
       "      <td>0.0</td>\n",
       "      <td>4.764444</td>\n",
       "      <td>2022-10-20 11:57:06.162</td>\n",
       "      <td>2022-10-20 12:57:05.219</td>\n",
       "    </tr>\n",
       "    <tr>\n",
       "      <th>3</th>\n",
       "      <td>2022-12-06</td>\n",
       "      <td>4</td>\n",
       "      <td>51.017178</td>\n",
       "      <td>6.018067</td>\n",
       "      <td>3.03</td>\n",
       "      <td>0.70</td>\n",
       "      <td>3.88</td>\n",
       "      <td>1717.0</td>\n",
       "      <td>2.9</td>\n",
       "      <td>0.0</td>\n",
       "      <td>6.000000</td>\n",
       "      <td>2022-12-06 19:18:16.293</td>\n",
       "      <td>2022-12-06 19:43:36.823</td>\n",
       "    </tr>\n",
       "    <tr>\n",
       "      <th>4</th>\n",
       "      <td>2022-12-07</td>\n",
       "      <td>2</td>\n",
       "      <td>51.017178</td>\n",
       "      <td>6.018067</td>\n",
       "      <td>3.02</td>\n",
       "      <td>0.68</td>\n",
       "      <td>4.24</td>\n",
       "      <td>800.0</td>\n",
       "      <td>2.9</td>\n",
       "      <td>0.0</td>\n",
       "      <td>4.000000</td>\n",
       "      <td>2022-12-07 04:46:18.074</td>\n",
       "      <td>2022-12-07 04:59:08.227</td>\n",
       "    </tr>\n",
       "  </tbody>\n",
       "</table>\n",
       "</div>"
      ],
      "text/plain": [
       "        date  trucks_count   latitude  longitude  beetloader_A  beetloader_B  \\\n",
       "0 2022-10-20             9  51.009888   6.036406          3.02          0.52   \n",
       "1 2022-10-20             5  51.011807   6.025018          2.98          0.55   \n",
       "2 2022-10-20            18  51.005714   6.043033          2.97          0.42   \n",
       "3 2022-12-06             4  51.017178   6.018067          3.03          0.70   \n",
       "4 2022-12-07             2  51.017178   6.018067          3.02          0.68   \n",
       "\n",
       "   beetloader_C  beetloader_beet_count  trucks_A  trucks_B  trucks_C  \\\n",
       "0          4.48                 2821.0       2.9       0.0  4.000000   \n",
       "1          4.44                 4787.0       2.9       0.0  4.250000   \n",
       "2          3.92                 5179.0       2.9       0.0  4.764444   \n",
       "3          3.88                 1717.0       2.9       0.0  6.000000   \n",
       "4          4.24                  800.0       2.9       0.0  4.000000   \n",
       "\n",
       "               time_start                time_end  \n",
       "0 2022-10-20 04:33:07.007 2022-10-20 04:49:27.294  \n",
       "1 2022-10-20 05:09:37.366 2022-10-20 06:11:07.609  \n",
       "2 2022-10-20 11:57:06.162 2022-10-20 12:57:05.219  \n",
       "3 2022-12-06 19:18:16.293 2022-12-06 19:43:36.823  \n",
       "4 2022-12-07 04:46:18.074 2022-12-07 04:59:08.227  "
      ]
     },
     "execution_count": 14,
     "metadata": {},
     "output_type": "execute_result"
    }
   ],
   "source": [
    "eval_df"
   ]
  },
  {
   "cell_type": "code",
   "execution_count": 15,
   "metadata": {},
   "outputs": [],
   "source": [
    "eval_df['difference_A'] = eval_df['beetloader_A']  - eval_df['trucks_A'] # wartość ujemna - strata % stakeholders, wartość dodatnia strata % plantatora\n",
    "eval_df['difference_B'] = eval_df['beetloader_B'] - eval_df['trucks_B']\n",
    "eval_df['difference_C'] = eval_df['beetloader_C'] - eval_df['trucks_C']\n",
    "eval_df['t_stat_A'], eval_df['p_value_A'] = ttest_ind(eval_df['trucks_A'], eval_df['beetloader_A'])\n",
    "eval_df['t_stat_B'], eval_df['p_value_B'] = ttest_ind(eval_df['trucks_B'], eval_df['beetloader_B'])\n",
    "eval_df['t_stat_C'], eval_df['p_value_C'] = ttest_ind(eval_df['trucks_C'], eval_df['beetloader_C'])\n"
   ]
  },
  {
   "cell_type": "code",
   "execution_count": 16,
   "metadata": {},
   "outputs": [
    {
     "data": {
      "text/html": [
       "<div>\n",
       "<style scoped>\n",
       "    .dataframe tbody tr th:only-of-type {\n",
       "        vertical-align: middle;\n",
       "    }\n",
       "\n",
       "    .dataframe tbody tr th {\n",
       "        vertical-align: top;\n",
       "    }\n",
       "\n",
       "    .dataframe thead th {\n",
       "        text-align: right;\n",
       "    }\n",
       "</style>\n",
       "<table border=\"1\" class=\"dataframe\">\n",
       "  <thead>\n",
       "    <tr style=\"text-align: right;\">\n",
       "      <th></th>\n",
       "      <th>date</th>\n",
       "      <th>trucks_count</th>\n",
       "      <th>latitude</th>\n",
       "      <th>longitude</th>\n",
       "      <th>beetloader_A</th>\n",
       "      <th>beetloader_B</th>\n",
       "      <th>beetloader_C</th>\n",
       "      <th>beetloader_beet_count</th>\n",
       "      <th>trucks_A</th>\n",
       "      <th>trucks_B</th>\n",
       "      <th>...</th>\n",
       "      <th>time_end</th>\n",
       "      <th>difference_A</th>\n",
       "      <th>difference_B</th>\n",
       "      <th>difference_C</th>\n",
       "      <th>t_stat_A</th>\n",
       "      <th>p_value_A</th>\n",
       "      <th>t_stat_B</th>\n",
       "      <th>p_value_B</th>\n",
       "      <th>t_stat_C</th>\n",
       "      <th>p_value_C</th>\n",
       "    </tr>\n",
       "  </thead>\n",
       "  <tbody>\n",
       "    <tr>\n",
       "      <th>0</th>\n",
       "      <td>2022-10-20</td>\n",
       "      <td>9</td>\n",
       "      <td>51.009888</td>\n",
       "      <td>6.036406</td>\n",
       "      <td>3.02</td>\n",
       "      <td>0.52</td>\n",
       "      <td>4.48</td>\n",
       "      <td>2821.0</td>\n",
       "      <td>2.9</td>\n",
       "      <td>0.0</td>\n",
       "      <td>...</td>\n",
       "      <td>2022-10-20 04:49:27.294</td>\n",
       "      <td>0.12</td>\n",
       "      <td>0.52</td>\n",
       "      <td>0.480000</td>\n",
       "      <td>-8.607101</td>\n",
       "      <td>0.000026</td>\n",
       "      <td>-11.014049</td>\n",
       "      <td>0.000004</td>\n",
       "      <td>1.035741</td>\n",
       "      <td>0.330614</td>\n",
       "    </tr>\n",
       "    <tr>\n",
       "      <th>1</th>\n",
       "      <td>2022-10-20</td>\n",
       "      <td>5</td>\n",
       "      <td>51.011807</td>\n",
       "      <td>6.025018</td>\n",
       "      <td>2.98</td>\n",
       "      <td>0.55</td>\n",
       "      <td>4.44</td>\n",
       "      <td>4787.0</td>\n",
       "      <td>2.9</td>\n",
       "      <td>0.0</td>\n",
       "      <td>...</td>\n",
       "      <td>2022-10-20 06:11:07.609</td>\n",
       "      <td>0.08</td>\n",
       "      <td>0.55</td>\n",
       "      <td>0.190000</td>\n",
       "      <td>-8.607101</td>\n",
       "      <td>0.000026</td>\n",
       "      <td>-11.014049</td>\n",
       "      <td>0.000004</td>\n",
       "      <td>1.035741</td>\n",
       "      <td>0.330614</td>\n",
       "    </tr>\n",
       "    <tr>\n",
       "      <th>2</th>\n",
       "      <td>2022-10-20</td>\n",
       "      <td>18</td>\n",
       "      <td>51.005714</td>\n",
       "      <td>6.043033</td>\n",
       "      <td>2.97</td>\n",
       "      <td>0.42</td>\n",
       "      <td>3.92</td>\n",
       "      <td>5179.0</td>\n",
       "      <td>2.9</td>\n",
       "      <td>0.0</td>\n",
       "      <td>...</td>\n",
       "      <td>2022-10-20 12:57:05.219</td>\n",
       "      <td>0.07</td>\n",
       "      <td>0.42</td>\n",
       "      <td>-0.844444</td>\n",
       "      <td>-8.607101</td>\n",
       "      <td>0.000026</td>\n",
       "      <td>-11.014049</td>\n",
       "      <td>0.000004</td>\n",
       "      <td>1.035741</td>\n",
       "      <td>0.330614</td>\n",
       "    </tr>\n",
       "    <tr>\n",
       "      <th>3</th>\n",
       "      <td>2022-12-06</td>\n",
       "      <td>4</td>\n",
       "      <td>51.017178</td>\n",
       "      <td>6.018067</td>\n",
       "      <td>3.03</td>\n",
       "      <td>0.70</td>\n",
       "      <td>3.88</td>\n",
       "      <td>1717.0</td>\n",
       "      <td>2.9</td>\n",
       "      <td>0.0</td>\n",
       "      <td>...</td>\n",
       "      <td>2022-12-06 19:43:36.823</td>\n",
       "      <td>0.13</td>\n",
       "      <td>0.70</td>\n",
       "      <td>-2.120000</td>\n",
       "      <td>-8.607101</td>\n",
       "      <td>0.000026</td>\n",
       "      <td>-11.014049</td>\n",
       "      <td>0.000004</td>\n",
       "      <td>1.035741</td>\n",
       "      <td>0.330614</td>\n",
       "    </tr>\n",
       "    <tr>\n",
       "      <th>4</th>\n",
       "      <td>2022-12-07</td>\n",
       "      <td>2</td>\n",
       "      <td>51.017178</td>\n",
       "      <td>6.018067</td>\n",
       "      <td>3.02</td>\n",
       "      <td>0.68</td>\n",
       "      <td>4.24</td>\n",
       "      <td>800.0</td>\n",
       "      <td>2.9</td>\n",
       "      <td>0.0</td>\n",
       "      <td>...</td>\n",
       "      <td>2022-12-07 04:59:08.227</td>\n",
       "      <td>0.12</td>\n",
       "      <td>0.68</td>\n",
       "      <td>0.240000</td>\n",
       "      <td>-8.607101</td>\n",
       "      <td>0.000026</td>\n",
       "      <td>-11.014049</td>\n",
       "      <td>0.000004</td>\n",
       "      <td>1.035741</td>\n",
       "      <td>0.330614</td>\n",
       "    </tr>\n",
       "  </tbody>\n",
       "</table>\n",
       "<p>5 rows × 22 columns</p>\n",
       "</div>"
      ],
      "text/plain": [
       "        date  trucks_count   latitude  longitude  beetloader_A  beetloader_B  \\\n",
       "0 2022-10-20             9  51.009888   6.036406          3.02          0.52   \n",
       "1 2022-10-20             5  51.011807   6.025018          2.98          0.55   \n",
       "2 2022-10-20            18  51.005714   6.043033          2.97          0.42   \n",
       "3 2022-12-06             4  51.017178   6.018067          3.03          0.70   \n",
       "4 2022-12-07             2  51.017178   6.018067          3.02          0.68   \n",
       "\n",
       "   beetloader_C  beetloader_beet_count  trucks_A  trucks_B  ...  \\\n",
       "0          4.48                 2821.0       2.9       0.0  ...   \n",
       "1          4.44                 4787.0       2.9       0.0  ...   \n",
       "2          3.92                 5179.0       2.9       0.0  ...   \n",
       "3          3.88                 1717.0       2.9       0.0  ...   \n",
       "4          4.24                  800.0       2.9       0.0  ...   \n",
       "\n",
       "                 time_end difference_A difference_B  difference_C  t_stat_A  \\\n",
       "0 2022-10-20 04:49:27.294         0.12         0.52      0.480000 -8.607101   \n",
       "1 2022-10-20 06:11:07.609         0.08         0.55      0.190000 -8.607101   \n",
       "2 2022-10-20 12:57:05.219         0.07         0.42     -0.844444 -8.607101   \n",
       "3 2022-12-06 19:43:36.823         0.13         0.70     -2.120000 -8.607101   \n",
       "4 2022-12-07 04:59:08.227         0.12         0.68      0.240000 -8.607101   \n",
       "\n",
       "   p_value_A   t_stat_B  p_value_B  t_stat_C  p_value_C  \n",
       "0   0.000026 -11.014049   0.000004  1.035741   0.330614  \n",
       "1   0.000026 -11.014049   0.000004  1.035741   0.330614  \n",
       "2   0.000026 -11.014049   0.000004  1.035741   0.330614  \n",
       "3   0.000026 -11.014049   0.000004  1.035741   0.330614  \n",
       "4   0.000026 -11.014049   0.000004  1.035741   0.330614  \n",
       "\n",
       "[5 rows x 22 columns]"
      ]
     },
     "execution_count": 16,
     "metadata": {},
     "output_type": "execute_result"
    }
   ],
   "source": [
    "eval_df"
   ]
  },
  {
   "cell_type": "markdown",
   "metadata": {},
   "source": [
    "### Check if difference between model and trucks is corelated with beetloader_beet_count value"
   ]
  },
  {
   "cell_type": "code",
   "execution_count": 17,
   "metadata": {},
   "outputs": [
    {
     "data": {
      "image/png": "[encoded data removed]",
      "text/plain": [
       "<Figure size 1000x600 with 1 Axes>"
      ]
     },
     "metadata": {},
     "output_type": "display_data"
    },
    {
     "data": {
      "text/plain": [
       "-0.9174465330760508"
      ]
     },
     "execution_count": 17,
     "metadata": {},
     "output_type": "execute_result"
    }
   ],
   "source": [
    "correlation = eval_df['difference_A'].corr(eval_df['beetloader_beet_count'])\n",
    "\n",
    "# Visualize the relationship using a scatter plot\n",
    "plt.figure(figsize=(10, 6))\n",
    "plt.scatter(eval_df['beetloader_beet_count'], eval_df['difference_A'], alpha=0.5)\n",
    "plt.title('Difference vs. Beetloader Beet Count')\n",
    "plt.xlabel('Beetloader Beet Count')\n",
    "plt.ylabel('Difference (beetloader_A - trucks_A)')\n",
    "plt.grid(True)\n",
    "plt.show()\n",
    "\n",
    "correlation\n"
   ]
  },
  {
   "cell_type": "code",
   "execution_count": 18,
   "metadata": {},
   "outputs": [
    {
     "data": {
      "image/png": "[encoded data removed]",
      "text/plain": [
       "<Figure size 1000x600 with 1 Axes>"
      ]
     },
     "metadata": {},
     "output_type": "display_data"
    },
    {
     "data": {
      "text/plain": [
       "-0.8622093190206743"
      ]
     },
     "execution_count": 18,
     "metadata": {},
     "output_type": "execute_result"
    }
   ],
   "source": [
    "correlation = eval_df['difference_B'].corr(eval_df['beetloader_beet_count'])\n",
    "\n",
    "# Visualize the relationship using a scatter plot\n",
    "plt.figure(figsize=(10, 6))\n",
    "plt.scatter(eval_df['beetloader_beet_count'], eval_df['difference_B'], alpha=0.5)\n",
    "plt.title('Difference vs. Beetloader Beet Count')\n",
    "plt.xlabel('Beetloader Beet Count')\n",
    "plt.ylabel('Difference (beetloader_B - trucks_B')\n",
    "plt.grid(True)\n",
    "plt.show()\n",
    "\n",
    "correlation\n"
   ]
  },
  {
   "cell_type": "code",
   "execution_count": 20,
   "metadata": {},
   "outputs": [
    {
     "data": {
      "image/png": "[encoded data removed]",
      "text/plain": [
       "<Figure size 1000x600 with 1 Axes>"
      ]
     },
     "metadata": {},
     "output_type": "display_data"
    },
    {
     "data": {
      "text/plain": [
       "0.0887799262587512"
      ]
     },
     "execution_count": 20,
     "metadata": {},
     "output_type": "execute_result"
    }
   ],
   "source": [
    "correlation = eval_df['difference_C'].corr(eval_df['beetloader_beet_count'])\n",
    "\n",
    "# Visualize the relationship using a scatter plot\n",
    "plt.figure(figsize=(10, 6))\n",
    "plt.scatter(eval_df['beetloader_beet_count'], eval_df['difference_C'], alpha=0.5)\n",
    "plt.title('Difference vs. Beetloader Beet Count')\n",
    "plt.xlabel('Beetloader Beet Count')\n",
    "plt.ylabel('Difference ( beetloader_C - trucks_C)')\n",
    "plt.grid(True)\n",
    "plt.show()\n",
    "\n",
    "correlation\n"
   ]
  },
  {
   "cell_type": "code",
   "execution_count": null,
   "metadata": {},
   "outputs": [],
   "source": []
  }
 ],
 "metadata": {
  "kernelspec": {
   "display_name": "base",
   "language": "python",
   "name": "python3"
  },
  "language_info": {
   "codemirror_mode": {
    "name": "ipython",
    "version": 3
   },
   "file_extension": ".py",
   "mimetype": "text/x-python",
   "name": "python",
   "nbconvert_exporter": "python",
   "pygments_lexer": "ipython3",
   "version": "3.10.9"
  }
 },
 "nbformat": 4,
 "nbformat_minor": 2
}
